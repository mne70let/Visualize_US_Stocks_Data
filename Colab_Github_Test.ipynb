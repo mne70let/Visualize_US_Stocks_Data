{
  "nbformat": 4,
  "nbformat_minor": 0,
  "metadata": {
    "colab": {
      "name": "Colab_Github_Test.ipynb",
      "provenance": [],
      "collapsed_sections": [],
      "authorship_tag": "ABX9TyMJdxywNiBKnOZgXVl49bc5",
      "include_colab_link": true
    },
    "kernelspec": {
      "name": "python3",
      "display_name": "Python 3"
    }
  },
  "cells": [
    {
      "cell_type": "markdown",
      "metadata": {
        "id": "view-in-github",
        "colab_type": "text"
      },
      "source": [
        "<a href=\"https://colab.research.google.com/github/mne70let/visualize-us-stocks-data/blob/main/Colab_Github_Test.ipynb\" target=\"_parent\"><img src=\"https://colab.research.google.com/assets/colab-badge.svg\" alt=\"Open In Colab\"/></a>"
      ]
    },
    {
      "cell_type": "code",
      "metadata": {
        "colab": {
          "base_uri": "https://localhost:8080/"
        },
        "id": "b5FcUxzB73wm",
        "outputId": "151a419c-e4fc-45ae-fb5d-f69eed580c8a"
      },
      "source": [
        "#This is a attempt to create an effective interface between GColab and GHub functionality\r\n",
        "#Mount Google Drive\r\n",
        "from google.colab import drive # import drive from google colab\r\n",
        "ROOT = \"/content/drive\"     # default location for the drive\r\n",
        "print(ROOT)                 # print content of ROOT (Optional)\r\n",
        "drive.mount(ROOT)           # we mount the google drive at /content/drive"
      ],
      "execution_count": 1,
      "outputs": [
        {
          "output_type": "stream",
          "text": [
            "/content/drive\n",
            "Drive already mounted at /content/drive; to attempt to forcibly remount, call drive.mount(\"/content/drive\", force_remount=True).\n"
          ],
          "name": "stdout"
        }
      ]
    },
    {
      "cell_type": "code",
      "metadata": {
        "colab": {
          "base_uri": "https://localhost:8080/"
        },
        "id": "OwC_bN0W9jvj",
        "outputId": "68d9642d-e454-45b6-8501-18b7637c4b89"
      },
      "source": [
        "# Clone github repository setup\r\n",
        "# import join used to join ROOT path and MY_GOOGLE_DRIVE_PATH\r\n",
        "from os.path import join  \r\n",
        "# path to your project on Google Drive\r\n",
        "MY_GOOGLE_DRIVE_PATH = 'MyDrive/Git/' \r\n",
        "# replace with your Github username \r\n",
        "GIT_USERNAME = \"mne70let\" \r\n",
        "# definitely replace with your\r\n",
        "GIT_TOKEN = \"{c4c310f4605b2acc0925a4d1aed87c17279b605d}\"  \r\n",
        "# Replace with your github repository in this case we want \r\n",
        "# to clone deep-learning-v2-pytorch repository\r\n",
        "GIT_REPOSITORY = \"visualize-us-stocks-data\" \r\n",
        "\r\n",
        "PROJECT_PATH = join(ROOT, MY_GOOGLE_DRIVE_PATH)\r\n",
        "\r\n",
        "# It's good to print out the value if you are not sure \r\n",
        "print(\"PROJECT_PATH: \", PROJECT_PATH)   \r\n",
        "\r\n",
        "#GIT_PATH = \"https://{GIT_TOKEN}@github.com/{GIT_USERNAME}/{GIT_REPOSITORY}.git\" this return 400 Bad Request for me\r\n",
        "GIT_PATH = \"https://\" + GIT_TOKEN + \"@github.com/\" + GIT_USERNAME + \"/\" + GIT_REPOSITORY + \".git\"\r\n",
        "print(\"GIT_PATH: \", GIT_PATH)\r\n",
        "\r\n",
        "#Cloning git project\r\n",
        "%cd \"{PROJECT_PATH}\"    # Change directory to the location defined in project_path\r\n",
        "!git clone \"{GIT_PATH}\" # clone the github repository"
      ],
      "execution_count": 10,
      "outputs": [
        {
          "output_type": "stream",
          "text": [
            "PROJECT_PATH:  /content/drive/MyDrive/Git/\n",
            "GIT_PATH:  https://{c4c310f4605b2acc0925a4d1aed87c17279b605d}@github.com/mne70let/visualize-us-stocks-data.git\n",
            "[Errno 2] No such file or directory: '/content/drive/MyDrive/Git/ # Change directory to the location defined in project_path'\n",
            "/content/drive/MyDrive/Git\n",
            "Cloning into 'visualize-us-stocks-data'...\n",
            "remote: Enumerating objects: 32, done.\u001b[K\n",
            "remote: Counting objects: 100% (32/32), done.\u001b[K\n",
            "remote: Compressing objects: 100% (28/28), done.\u001b[K\n",
            "remote: Total 32 (delta 6), reused 0 (delta 0), pack-reused 0\u001b[K\n",
            "Unpacking objects: 100% (32/32), done.\n"
          ],
          "name": "stdout"
        }
      ]
    },
    {
      "cell_type": "code",
      "metadata": {
        "colab": {
          "base_uri": "https://localhost:8080/"
        },
        "id": "m5qVV_4hAvoF",
        "outputId": "2f29fa98-9077-42b1-f3ba-998a3c789428"
      },
      "source": [
        "%cd \"{PROJECT_PATH}\"\r\n",
        "%ls"
      ],
      "execution_count": 12,
      "outputs": [
        {
          "output_type": "stream",
          "text": [
            "/content/drive/MyDrive/Git\n",
            "\u001b[0m\u001b[01;34mvisualize-us-stocks-data\u001b[0m/\n"
          ],
          "name": "stdout"
        }
      ]
    }
  ]
}